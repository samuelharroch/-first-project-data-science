{
 "cells": [
  {
   "cell_type": "code",
   "execution_count": 62,
   "metadata": {},
   "outputs": [],
   "source": [
    "import matplotlib\n",
    "import numpy as np\n",
    "import pandas as pd\n",
    "import matplotlib.pyplot as plt\n",
    "import seaborn as sns\n",
    "import matplotlib.colors as mcolors\n",
    "%matplotlib inline\n",
    "\n",
    "\n",
    "from sklearn.model_selection import train_test_split,KFold,cross_val_score,ShuffleSplit\n",
    "from sklearn.neighbors import KNeighborsClassifier\n",
    "from sklearn import svm\n",
    "from sklearn.svm import SVC\n",
    "from sklearn.linear_model import LogisticRegression\n",
    "from sklearn.naive_bayes import GaussianNB\n",
    "from sklearn.ensemble import RandomForestClassifier\n",
    "from sklearn.ensemble import AdaBoostClassifier\n",
    "from sklearn import metrics\n",
    "from sklearn.metrics import classification_report,confusion_matrix\n",
    "from sklearn.tree import DecisionTreeClassifier\n",
    "import warnings\n",
    "warnings.filterwarnings('ignore')\n"
   ]
  },
  {
   "cell_type": "markdown",
   "metadata": {},
   "source": [
    "# Introduction\n",
    "Most of you may not be familiar with Hong Kong horse racing (or even horse racing). In order to help you get started playing with the dataset, I will try to explain a little bit more about Hong Kong horse racing based on the data we have.\n",
    "\n",
    "First, we'll load the dataset."
   ]
  },
  {
   "cell_type": "code",
   "execution_count": 3,
   "metadata": {},
   "outputs": [
    {
     "data": {
      "text/html": [
       "<div>\n",
       "<style scoped>\n",
       "    .dataframe tbody tr th:only-of-type {\n",
       "        vertical-align: middle;\n",
       "    }\n",
       "\n",
       "    .dataframe tbody tr th {\n",
       "        vertical-align: top;\n",
       "    }\n",
       "\n",
       "    .dataframe thead th {\n",
       "        text-align: right;\n",
       "    }\n",
       "</style>\n",
       "<table border=\"1\" class=\"dataframe\">\n",
       "  <thead>\n",
       "    <tr style=\"text-align: right;\">\n",
       "      <th></th>\n",
       "      <th>finishing_position</th>\n",
       "      <th>horse_number</th>\n",
       "      <th>horse_name</th>\n",
       "      <th>horse_id</th>\n",
       "      <th>jockey</th>\n",
       "      <th>trainer</th>\n",
       "      <th>actual_weight</th>\n",
       "      <th>declared_horse_weight</th>\n",
       "      <th>draw</th>\n",
       "      <th>length_behind_winner</th>\n",
       "      <th>running_position_1</th>\n",
       "      <th>running_position_2</th>\n",
       "      <th>running_position_3</th>\n",
       "      <th>running_position_4</th>\n",
       "      <th>finish_time</th>\n",
       "      <th>win_odds</th>\n",
       "      <th>running_position_5</th>\n",
       "      <th>running_position_6</th>\n",
       "      <th>race_id</th>\n",
       "    </tr>\n",
       "  </thead>\n",
       "  <tbody>\n",
       "    <tr>\n",
       "      <td>0</td>\n",
       "      <td>1</td>\n",
       "      <td>1.0</td>\n",
       "      <td>DOUBLE DRAGON</td>\n",
       "      <td>K019</td>\n",
       "      <td>B Prebble</td>\n",
       "      <td>D Cruz</td>\n",
       "      <td>133</td>\n",
       "      <td>1032</td>\n",
       "      <td>1</td>\n",
       "      <td>-</td>\n",
       "      <td>1.0</td>\n",
       "      <td>2.0</td>\n",
       "      <td>2.0</td>\n",
       "      <td>1.0</td>\n",
       "      <td>1.22.33</td>\n",
       "      <td>3.8</td>\n",
       "      <td>NaN</td>\n",
       "      <td>NaN</td>\n",
       "      <td>2014-001</td>\n",
       "    </tr>\n",
       "    <tr>\n",
       "      <td>1</td>\n",
       "      <td>2</td>\n",
       "      <td>2.0</td>\n",
       "      <td>PLAIN BLUE BANNER</td>\n",
       "      <td>S070</td>\n",
       "      <td>D Whyte</td>\n",
       "      <td>D E Ferraris</td>\n",
       "      <td>133</td>\n",
       "      <td>1075</td>\n",
       "      <td>13</td>\n",
       "      <td>2</td>\n",
       "      <td>8.0</td>\n",
       "      <td>9.0</td>\n",
       "      <td>9.0</td>\n",
       "      <td>2.0</td>\n",
       "      <td>1.22.65</td>\n",
       "      <td>8</td>\n",
       "      <td>NaN</td>\n",
       "      <td>NaN</td>\n",
       "      <td>2014-001</td>\n",
       "    </tr>\n",
       "    <tr>\n",
       "      <td>2</td>\n",
       "      <td>3</td>\n",
       "      <td>10.0</td>\n",
       "      <td>GOLDWEAVER</td>\n",
       "      <td>P072</td>\n",
       "      <td>Y T Cheng</td>\n",
       "      <td>Y S Tsui</td>\n",
       "      <td>121</td>\n",
       "      <td>1065</td>\n",
       "      <td>3</td>\n",
       "      <td>2</td>\n",
       "      <td>2.0</td>\n",
       "      <td>1.0</td>\n",
       "      <td>1.0</td>\n",
       "      <td>3.0</td>\n",
       "      <td>1.22.66</td>\n",
       "      <td>5.7</td>\n",
       "      <td>NaN</td>\n",
       "      <td>NaN</td>\n",
       "      <td>2014-001</td>\n",
       "    </tr>\n",
       "    <tr>\n",
       "      <td>3</td>\n",
       "      <td>4</td>\n",
       "      <td>3.0</td>\n",
       "      <td>SUPREME PROFIT</td>\n",
       "      <td>P230</td>\n",
       "      <td>J Moreira</td>\n",
       "      <td>C S Shum</td>\n",
       "      <td>132</td>\n",
       "      <td>1222</td>\n",
       "      <td>2</td>\n",
       "      <td>2</td>\n",
       "      <td>6.0</td>\n",
       "      <td>4.0</td>\n",
       "      <td>5.0</td>\n",
       "      <td>4.0</td>\n",
       "      <td>1.22.66</td>\n",
       "      <td>6.1</td>\n",
       "      <td>NaN</td>\n",
       "      <td>NaN</td>\n",
       "      <td>2014-001</td>\n",
       "    </tr>\n",
       "    <tr>\n",
       "      <td>4</td>\n",
       "      <td>5</td>\n",
       "      <td>7.0</td>\n",
       "      <td>THE ONLY KID</td>\n",
       "      <td>H173</td>\n",
       "      <td>Z Purton</td>\n",
       "      <td>K W Lui</td>\n",
       "      <td>125</td>\n",
       "      <td>1136</td>\n",
       "      <td>9</td>\n",
       "      <td>4-1/4</td>\n",
       "      <td>9.0</td>\n",
       "      <td>10.0</td>\n",
       "      <td>10.0</td>\n",
       "      <td>5.0</td>\n",
       "      <td>1.23.02</td>\n",
       "      <td>6.1</td>\n",
       "      <td>NaN</td>\n",
       "      <td>NaN</td>\n",
       "      <td>2014-001</td>\n",
       "    </tr>\n",
       "  </tbody>\n",
       "</table>\n",
       "</div>"
      ],
      "text/plain": [
       "  finishing_position  horse_number         horse_name horse_id     jockey  \\\n",
       "0                  1           1.0      DOUBLE DRAGON     K019  B Prebble   \n",
       "1                  2           2.0  PLAIN BLUE BANNER     S070    D Whyte   \n",
       "2                  3          10.0         GOLDWEAVER     P072  Y T Cheng   \n",
       "3                  4           3.0     SUPREME PROFIT     P230  J Moreira   \n",
       "4                  5           7.0       THE ONLY KID     H173   Z Purton   \n",
       "\n",
       "        trainer actual_weight declared_horse_weight draw length_behind_winner  \\\n",
       "0        D Cruz           133                  1032    1                    -   \n",
       "1  D E Ferraris           133                  1075   13                    2   \n",
       "2      Y S Tsui           121                  1065    3                    2   \n",
       "3      C S Shum           132                  1222    2                    2   \n",
       "4       K W Lui           125                  1136    9                4-1/4   \n",
       "\n",
       "   running_position_1  running_position_2  running_position_3  \\\n",
       "0                 1.0                 2.0                 2.0   \n",
       "1                 8.0                 9.0                 9.0   \n",
       "2                 2.0                 1.0                 1.0   \n",
       "3                 6.0                 4.0                 5.0   \n",
       "4                 9.0                10.0                10.0   \n",
       "\n",
       "   running_position_4 finish_time win_odds  running_position_5  \\\n",
       "0                 1.0     1.22.33      3.8                 NaN   \n",
       "1                 2.0     1.22.65        8                 NaN   \n",
       "2                 3.0     1.22.66      5.7                 NaN   \n",
       "3                 4.0     1.22.66      6.1                 NaN   \n",
       "4                 5.0     1.23.02      6.1                 NaN   \n",
       "\n",
       "   running_position_6   race_id  \n",
       "0                 NaN  2014-001  \n",
       "1                 NaN  2014-001  \n",
       "2                 NaN  2014-001  \n",
       "3                 NaN  2014-001  \n",
       "4                 NaN  2014-001  "
      ]
     },
     "execution_count": 3,
     "metadata": {},
     "output_type": "execute_result"
    }
   ],
   "source": [
    "df = pd.read_csv('race-result-horse.csv')\n",
    "df.head()"
   ]
  },
  {
   "cell_type": "markdown",
   "metadata": {},
   "source": [
    "# About the Features\n",
    "\n",
    "**finishing_position-** The final position, between 1-14 (Depends on the number of horses in the race)\n",
    "\n",
    "**horse_number-** The number of the horse, also between 1-14. As explained below, is influenced by the rider's weight.         \n",
    "\n",
    "**horse_name               \n",
    "horse_id**\n",
    "\n",
    "**jockey-** the name of the rider.\n",
    "\n",
    "**trainer-** the name of of the trainer.\n",
    "\n",
    "**actual_weight-** the weight of the jokey (effect the horse number).            \n",
    "\n",
    "**declared_horse_weight**\n",
    "\n",
    "**draw-** the number of the gate, also between 1-14 (effect the wins odd- Will be explained later)                     \n",
    "\n",
    "**length_behind_winner     \n",
    "running_position_1       \n",
    "running_position_2       \n",
    "running_position_3       \n",
    "running_position_4       \n",
    "finish_time**\n",
    "\n",
    "**win_odds-** Ranging from 1 to 99, with the odds represented for gambling calculations. As will be explained below, the first gate is closer to the finish line, so the chances of winning are higher. As a result, those who bet on the horse at the first gate will earn less profits and thus the odds presented for them will be lower.\n",
    "\n",
    "**running_position_5       \n",
    "running_position_6       \n",
    "race_id**                "
   ]
  },
  {
   "cell_type": "markdown",
   "metadata": {},
   "source": [
    "# Data Cleaning\n",
    "**First we cleaned the data a bit and filled nan values or other wrong values**"
   ]
  },
  {
   "cell_type": "code",
   "execution_count": 4,
   "metadata": {},
   "outputs": [
    {
     "name": "stdout",
     "output_type": "stream",
     "text": [
      "<class 'pandas.core.frame.DataFrame'>\n",
      "RangeIndex: 30189 entries, 0 to 30188\n",
      "Data columns (total 19 columns):\n",
      "finishing_position       30187 non-null object\n",
      "horse_number             29851 non-null float64\n",
      "horse_name               30189 non-null object\n",
      "horse_id                 30189 non-null object\n",
      "jockey                   30189 non-null object\n",
      "trainer                  30189 non-null object\n",
      "actual_weight            30189 non-null object\n",
      "declared_horse_weight    30189 non-null object\n",
      "draw                     30189 non-null object\n",
      "length_behind_winner     30189 non-null object\n",
      "running_position_1       29574 non-null float64\n",
      "running_position_2       29560 non-null float64\n",
      "running_position_3       29542 non-null float64\n",
      "running_position_4       16618 non-null float64\n",
      "finish_time              30189 non-null object\n",
      "win_odds                 30189 non-null object\n",
      "running_position_5       3764 non-null float64\n",
      "running_position_6       549 non-null float64\n",
      "race_id                  30189 non-null object\n",
      "dtypes: float64(7), object(12)\n",
      "memory usage: 4.4+ MB\n"
     ]
    }
   ],
   "source": [
    "df.info()"
   ]
  },
  {
   "cell_type": "code",
   "execution_count": 5,
   "metadata": {},
   "outputs": [
    {
     "data": {
      "text/plain": [
       "array(['1', '2', '3', '4', '5', '6', '7', '8', '9', '10', '11', '12',\n",
       "       '13', 'WV-A', '14', 'WV', '9 DH', '2 DH', 'WX', 'PU', '1 DH',\n",
       "       '8 DH', 'UR', 'FE', '4 DH', '10 DH', 'TNP', '5 DH', 'DISQ',\n",
       "       '11 DH', '12 DH', '3 DH', '7 DH', 'WX-A', 'DNF', '6 DH', nan],\n",
       "      dtype=object)"
      ]
     },
     "execution_count": 5,
     "metadata": {},
     "output_type": "execute_result"
    }
   ],
   "source": [
    "df['finishing_position'].unique()#Example of incorrect values"
   ]
  },
  {
   "cell_type": "code",
   "execution_count": 6,
   "metadata": {},
   "outputs": [],
   "source": [
    "df=df.drop(columns=['running_position_6', 'running_position_5','running_position_4'])# more than half was nan \n",
    "\n",
    "df['finishing_position']= df['finishing_position'].replace(['WV-A', 'WV', '9 DH', '2 DH', 'WX', 'PU', '1 DH',\n",
    "       '8 DH', 'UR', 'FE', '4 DH', '10 DH', 'TNP', '5 DH', 'DISQ',\n",
    "       '11 DH', '12 DH', '3 DH', '7 DH', 'WX-A', 'DNF', '6 DH'], np.nan)\n",
    "df['finishing_position']=pd.to_numeric(df['finishing_position'], downcast='signed')\n",
    "df['finishing_position']=df['finishing_position'].interpolate().astype('int32')\n",
    "df['horse_number']=df['horse_number'].interpolate().astype('int32')\n",
    "\n",
    "df['running_position_1']=df['running_position_1'].interpolate().astype('int32')\n",
    "df['running_position_2']=df['running_position_2'].interpolate().astype('int32')\n",
    "df['running_position_3']=df['running_position_3'].interpolate().astype('int32')\n",
    "\n",
    "df['win_odds']= df['win_odds'].replace('---',np.nan)\n",
    "df['win_odds']=pd.to_numeric(df['win_odds'], downcast='signed')\n",
    "df['win_odds']=df['win_odds'].fillna(df['win_odds'].mean())\n",
    "\n",
    "df['declared_horse_weight']= df['declared_horse_weight'].replace('-',np.nan)\n",
    "df['declared_horse_weight']=pd.to_numeric(df['declared_horse_weight'], downcast='signed')\n",
    "df['declared_horse_weight']=df['declared_horse_weight'].fillna(df['declared_horse_weight'].mean())\n",
    "\n",
    "\n",
    "df['draw']= df['draw'].replace('---',np.nan)\n",
    "df['draw']=pd.to_numeric(df['draw'], downcast='signed')\n",
    "df['draw']=df['draw'].interpolate().astype('int32')\n",
    "\n",
    "df['actual_weight']= df['actual_weight'].replace('-',np.nan)\n",
    "df['actual_weight']=pd.to_numeric(df['actual_weight'], downcast='signed')\n",
    "df['actual_weight']=df['actual_weight'].fillna(df['actual_weight'].mean())\n"
   ]
  },
  {
   "cell_type": "code",
   "execution_count": 7,
   "metadata": {},
   "outputs": [
    {
     "name": "stdout",
     "output_type": "stream",
     "text": [
      "<class 'pandas.core.frame.DataFrame'>\n",
      "RangeIndex: 30189 entries, 0 to 30188\n",
      "Data columns (total 16 columns):\n",
      "finishing_position       30189 non-null int32\n",
      "horse_number             30189 non-null int32\n",
      "horse_name               30189 non-null object\n",
      "horse_id                 30189 non-null object\n",
      "jockey                   30189 non-null object\n",
      "trainer                  30189 non-null object\n",
      "actual_weight            30189 non-null float64\n",
      "declared_horse_weight    30189 non-null float64\n",
      "draw                     30189 non-null int32\n",
      "length_behind_winner     30189 non-null object\n",
      "running_position_1       30189 non-null int32\n",
      "running_position_2       30189 non-null int32\n",
      "running_position_3       30189 non-null int32\n",
      "finish_time              30189 non-null object\n",
      "win_odds                 30189 non-null float64\n",
      "race_id                  30189 non-null object\n",
      "dtypes: float64(3), int32(6), object(7)\n",
      "memory usage: 3.0+ MB\n"
     ]
    }
   ],
   "source": [
    "df.info()#We now have a clean and ready data for explanations and analyzes"
   ]
  },
  {
   "cell_type": "markdown",
   "metadata": {},
   "source": [
    "## Number of horses by race:\n",
    "Each race has up to 14 horses"
   ]
  },
  {
   "cell_type": "code",
   "execution_count": 19,
   "metadata": {},
   "outputs": [
    {
     "data": {
      "text/plain": [
       "Text(0, 0.5, 'count of races')"
      ]
     },
     "execution_count": 19,
     "metadata": {},
     "output_type": "execute_result"
    },
    {
     "data": {
      "image/png": "[encoded data removed]",
      "text/plain": [
       "<Figure size 432x288 with 1 Axes>"
      ]
     },
     "metadata": {
      "needs_background": "light"
     },
     "output_type": "display_data"
    }
   ],
   "source": [
    "sns.countplot(df.groupby('race_id').max()['horse_number'])\n",
    "plt.title('Quantity of horses in each race', fontsize= 15)\n",
    "plt.xlabel('num of horse')\n",
    "plt.ylabel('count of races')"
   ]
  },
  {
   "cell_type": "code",
   "execution_count": 20,
   "metadata": {},
   "outputs": [
    {
     "data": {
      "text/plain": [
       "Text(0.5, 1.0, 'The number of appears of a horse number')"
      ]
     },
     "execution_count": 20,
     "metadata": {},
     "output_type": "execute_result"
    },
    {
     "data": {
      "image/png": "[encoded data removed]",
      "text/plain": [
       "<Figure size 432x288 with 1 Axes>"
      ]
     },
     "metadata": {
      "needs_background": "light"
     },
     "output_type": "display_data"
    }
   ],
   "source": [
    "sns.countplot(df['horse_number'])\n",
    "plt.xlabel('horse number')\n",
    "plt.ylabel('count of appears (by race)')\n",
    "\n",
    "plt.title('The number of appears of a horse number', fontsize= 15)"
   ]
  },
  {
   "cell_type": "markdown",
   "metadata": {},
   "source": [
    "## Handicap System\n",
    "Hong Kong horse racing use handicap system: horse no.1 has the highest rating and carry the heaviest weight"
   ]
  },
  {
   "cell_type": "code",
   "execution_count": 21,
   "metadata": {},
   "outputs": [
    {
     "data": {
      "text/plain": [
       "Text(0, 0.5, 'avg weight carried')"
      ]
     },
     "execution_count": 21,
     "metadata": {},
     "output_type": "execute_result"
    },
    {
     "data": {
      "image/png": "[encoded data removed]",
      "text/plain": [
       "<Figure size 432x288 with 1 Axes>"
      ]
     },
     "metadata": {
      "needs_background": "light"
     },
     "output_type": "display_data"
    }
   ],
   "source": [
    "weight_by_horse_no= df.groupby('horse_number').mean()\n",
    "plt.bar(df['horse_number'].sort_values().unique() ,  weight_by_horse_no['actual_weight'])\n",
    "plt.xlabel('num of horse')\n",
    "plt.ylabel('avg weight carried')"
   ]
  },
  {
   "cell_type": "markdown",
   "metadata": {},
   "source": [
    "## Gate number effect (draw)\n",
    "The gate number for each horse is drawn 2 days before the races. Gate number 1 is the closest to the inside rail. Thus, we would expect better performance for horses with draw no.1 . (There is a single row where draw = 15, which is because of the gate didn't function well that day).\n",
    "\n",
    "**Note-** The odds are represented in the opposite way, as explained before."
   ]
  },
  {
   "cell_type": "code",
   "execution_count": 22,
   "metadata": {},
   "outputs": [
    {
     "data": {
      "text/plain": [
       "Text(0, 0.5, 'win odds')"
      ]
     },
     "execution_count": 22,
     "metadata": {},
     "output_type": "execute_result"
    },
    {
     "data": {
      "image/png": "[encoded data removed]",
      "text/plain": [
       "<Figure size 432x288 with 1 Axes>"
      ]
     },
     "metadata": {
      "needs_background": "light"
     },
     "output_type": "display_data"
    }
   ],
   "source": [
    "plt.bar(df['draw'].sort_values().unique() ,  df.groupby('draw').mean()['win_odds'])\n",
    "plt.xlabel('num of horse')\n",
    "plt.ylabel('win odds')"
   ]
  },
  {
   "cell_type": "markdown",
   "metadata": {},
   "source": [
    "# Classifying\n",
    "**We will divide the finishing position by categorization as is common in horse racing bets:**\n",
    "* 1- five first positions: Whoever guesses them usually wins a sum of money, depending on the order of choice and the right number of horses selected\n",
    "* 2- the other positions"
   ]
  },
  {
   "cell_type": "code",
   "execution_count": 23,
   "metadata": {},
   "outputs": [
    {
     "data": {
      "text/html": [
       "<div>\n",
       "<style scoped>\n",
       "    .dataframe tbody tr th:only-of-type {\n",
       "        vertical-align: middle;\n",
       "    }\n",
       "\n",
       "    .dataframe tbody tr th {\n",
       "        vertical-align: top;\n",
       "    }\n",
       "\n",
       "    .dataframe thead th {\n",
       "        text-align: right;\n",
       "    }\n",
       "</style>\n",
       "<table border=\"1\" class=\"dataframe\">\n",
       "  <thead>\n",
       "    <tr style=\"text-align: right;\">\n",
       "      <th></th>\n",
       "      <th>finishing_position</th>\n",
       "      <th>horse_number</th>\n",
       "      <th>horse_name</th>\n",
       "      <th>horse_id</th>\n",
       "      <th>jockey</th>\n",
       "      <th>trainer</th>\n",
       "      <th>actual_weight</th>\n",
       "      <th>declared_horse_weight</th>\n",
       "      <th>draw</th>\n",
       "      <th>length_behind_winner</th>\n",
       "      <th>running_position_1</th>\n",
       "      <th>running_position_2</th>\n",
       "      <th>running_position_3</th>\n",
       "      <th>finish_time</th>\n",
       "      <th>win_odds</th>\n",
       "      <th>race_id</th>\n",
       "      <th>first_three</th>\n",
       "      <th>first_five</th>\n",
       "    </tr>\n",
       "  </thead>\n",
       "  <tbody>\n",
       "    <tr>\n",
       "      <td>0</td>\n",
       "      <td>1</td>\n",
       "      <td>1</td>\n",
       "      <td>DOUBLE DRAGON</td>\n",
       "      <td>K019</td>\n",
       "      <td>B Prebble</td>\n",
       "      <td>D Cruz</td>\n",
       "      <td>133.0</td>\n",
       "      <td>1032.000000</td>\n",
       "      <td>1</td>\n",
       "      <td>-</td>\n",
       "      <td>1</td>\n",
       "      <td>2</td>\n",
       "      <td>2</td>\n",
       "      <td>1.22.33</td>\n",
       "      <td>3.800000</td>\n",
       "      <td>2014-001</td>\n",
       "      <td>0</td>\n",
       "      <td>1.0</td>\n",
       "    </tr>\n",
       "    <tr>\n",
       "      <td>1</td>\n",
       "      <td>2</td>\n",
       "      <td>2</td>\n",
       "      <td>PLAIN BLUE BANNER</td>\n",
       "      <td>S070</td>\n",
       "      <td>D Whyte</td>\n",
       "      <td>D E Ferraris</td>\n",
       "      <td>133.0</td>\n",
       "      <td>1075.000000</td>\n",
       "      <td>13</td>\n",
       "      <td>2</td>\n",
       "      <td>8</td>\n",
       "      <td>9</td>\n",
       "      <td>9</td>\n",
       "      <td>1.22.65</td>\n",
       "      <td>8.000000</td>\n",
       "      <td>2014-001</td>\n",
       "      <td>0</td>\n",
       "      <td>1.0</td>\n",
       "    </tr>\n",
       "    <tr>\n",
       "      <td>2</td>\n",
       "      <td>3</td>\n",
       "      <td>10</td>\n",
       "      <td>GOLDWEAVER</td>\n",
       "      <td>P072</td>\n",
       "      <td>Y T Cheng</td>\n",
       "      <td>Y S Tsui</td>\n",
       "      <td>121.0</td>\n",
       "      <td>1065.000000</td>\n",
       "      <td>3</td>\n",
       "      <td>2</td>\n",
       "      <td>2</td>\n",
       "      <td>1</td>\n",
       "      <td>1</td>\n",
       "      <td>1.22.66</td>\n",
       "      <td>5.700000</td>\n",
       "      <td>2014-001</td>\n",
       "      <td>0</td>\n",
       "      <td>1.0</td>\n",
       "    </tr>\n",
       "    <tr>\n",
       "      <td>3</td>\n",
       "      <td>4</td>\n",
       "      <td>3</td>\n",
       "      <td>SUPREME PROFIT</td>\n",
       "      <td>P230</td>\n",
       "      <td>J Moreira</td>\n",
       "      <td>C S Shum</td>\n",
       "      <td>132.0</td>\n",
       "      <td>1222.000000</td>\n",
       "      <td>2</td>\n",
       "      <td>2</td>\n",
       "      <td>6</td>\n",
       "      <td>4</td>\n",
       "      <td>5</td>\n",
       "      <td>1.22.66</td>\n",
       "      <td>6.100000</td>\n",
       "      <td>2014-001</td>\n",
       "      <td>0</td>\n",
       "      <td>1.0</td>\n",
       "    </tr>\n",
       "    <tr>\n",
       "      <td>4</td>\n",
       "      <td>5</td>\n",
       "      <td>7</td>\n",
       "      <td>THE ONLY KID</td>\n",
       "      <td>H173</td>\n",
       "      <td>Z Purton</td>\n",
       "      <td>K W Lui</td>\n",
       "      <td>125.0</td>\n",
       "      <td>1136.000000</td>\n",
       "      <td>9</td>\n",
       "      <td>4-1/4</td>\n",
       "      <td>9</td>\n",
       "      <td>10</td>\n",
       "      <td>10</td>\n",
       "      <td>1.23.02</td>\n",
       "      <td>6.100000</td>\n",
       "      <td>2014-001</td>\n",
       "      <td>0</td>\n",
       "      <td>1.0</td>\n",
       "    </tr>\n",
       "    <tr>\n",
       "      <td>...</td>\n",
       "      <td>...</td>\n",
       "      <td>...</td>\n",
       "      <td>...</td>\n",
       "      <td>...</td>\n",
       "      <td>...</td>\n",
       "      <td>...</td>\n",
       "      <td>...</td>\n",
       "      <td>...</td>\n",
       "      <td>...</td>\n",
       "      <td>...</td>\n",
       "      <td>...</td>\n",
       "      <td>...</td>\n",
       "      <td>...</td>\n",
       "      <td>...</td>\n",
       "      <td>...</td>\n",
       "      <td>...</td>\n",
       "      <td>...</td>\n",
       "      <td>...</td>\n",
       "    </tr>\n",
       "    <tr>\n",
       "      <td>30184</td>\n",
       "      <td>11</td>\n",
       "      <td>3</td>\n",
       "      <td>DOUBLE VALENTINE</td>\n",
       "      <td>A163</td>\n",
       "      <td>B Prebble</td>\n",
       "      <td>A S Cruz</td>\n",
       "      <td>127.0</td>\n",
       "      <td>1085.000000</td>\n",
       "      <td>13</td>\n",
       "      <td>9-1/4</td>\n",
       "      <td>11</td>\n",
       "      <td>11</td>\n",
       "      <td>12</td>\n",
       "      <td>1.24.58</td>\n",
       "      <td>41.000000</td>\n",
       "      <td>2016-805</td>\n",
       "      <td>0</td>\n",
       "      <td>2.0</td>\n",
       "    </tr>\n",
       "    <tr>\n",
       "      <td>30185</td>\n",
       "      <td>12</td>\n",
       "      <td>8</td>\n",
       "      <td>THE JOY OF GIVING</td>\n",
       "      <td>A249</td>\n",
       "      <td>W M Lai</td>\n",
       "      <td>C W Chang</td>\n",
       "      <td>122.0</td>\n",
       "      <td>1026.000000</td>\n",
       "      <td>9</td>\n",
       "      <td>13-1/2</td>\n",
       "      <td>13</td>\n",
       "      <td>13</td>\n",
       "      <td>13</td>\n",
       "      <td>1.25.26</td>\n",
       "      <td>99.000000</td>\n",
       "      <td>2016-805</td>\n",
       "      <td>0</td>\n",
       "      <td>2.0</td>\n",
       "    </tr>\n",
       "    <tr>\n",
       "      <td>30186</td>\n",
       "      <td>13</td>\n",
       "      <td>5</td>\n",
       "      <td>MIGHTY BOY</td>\n",
       "      <td>A352</td>\n",
       "      <td>N Callan</td>\n",
       "      <td>J Moore</td>\n",
       "      <td>126.0</td>\n",
       "      <td>1153.000000</td>\n",
       "      <td>1</td>\n",
       "      <td>14-1/4</td>\n",
       "      <td>5</td>\n",
       "      <td>5</td>\n",
       "      <td>4</td>\n",
       "      <td>1.25.35</td>\n",
       "      <td>41.000000</td>\n",
       "      <td>2016-805</td>\n",
       "      <td>0</td>\n",
       "      <td>2.0</td>\n",
       "    </tr>\n",
       "    <tr>\n",
       "      <td>30187</td>\n",
       "      <td>13</td>\n",
       "      <td>9</td>\n",
       "      <td>WINSTON'S LAD</td>\n",
       "      <td>T348</td>\n",
       "      <td>N Callan</td>\n",
       "      <td>K W Lui</td>\n",
       "      <td>127.0</td>\n",
       "      <td>1109.108223</td>\n",
       "      <td>6</td>\n",
       "      <td>---</td>\n",
       "      <td>5</td>\n",
       "      <td>5</td>\n",
       "      <td>4</td>\n",
       "      <td>---</td>\n",
       "      <td>30.255274</td>\n",
       "      <td>2016-805</td>\n",
       "      <td>0</td>\n",
       "      <td>2.0</td>\n",
       "    </tr>\n",
       "    <tr>\n",
       "      <td>30188</td>\n",
       "      <td>13</td>\n",
       "      <td>13</td>\n",
       "      <td>HEHA BOY</td>\n",
       "      <td>A232</td>\n",
       "      <td>H N Wong</td>\n",
       "      <td>Y S Tsui</td>\n",
       "      <td>113.0</td>\n",
       "      <td>1040.000000</td>\n",
       "      <td>12</td>\n",
       "      <td>-</td>\n",
       "      <td>5</td>\n",
       "      <td>5</td>\n",
       "      <td>4</td>\n",
       "      <td>---</td>\n",
       "      <td>99.000000</td>\n",
       "      <td>2016-805</td>\n",
       "      <td>0</td>\n",
       "      <td>2.0</td>\n",
       "    </tr>\n",
       "  </tbody>\n",
       "</table>\n",
       "<p>30189 rows × 18 columns</p>\n",
       "</div>"
      ],
      "text/plain": [
       "       finishing_position  horse_number         horse_name horse_id  \\\n",
       "0                       1             1      DOUBLE DRAGON     K019   \n",
       "1                       2             2  PLAIN BLUE BANNER     S070   \n",
       "2                       3            10         GOLDWEAVER     P072   \n",
       "3                       4             3     SUPREME PROFIT     P230   \n",
       "4                       5             7       THE ONLY KID     H173   \n",
       "...                   ...           ...                ...      ...   \n",
       "30184                  11             3   DOUBLE VALENTINE     A163   \n",
       "30185                  12             8  THE JOY OF GIVING     A249   \n",
       "30186                  13             5         MIGHTY BOY     A352   \n",
       "30187                  13             9      WINSTON'S LAD     T348   \n",
       "30188                  13            13           HEHA BOY     A232   \n",
       "\n",
       "          jockey       trainer  actual_weight  declared_horse_weight  draw  \\\n",
       "0      B Prebble        D Cruz          133.0            1032.000000     1   \n",
       "1        D Whyte  D E Ferraris          133.0            1075.000000    13   \n",
       "2      Y T Cheng      Y S Tsui          121.0            1065.000000     3   \n",
       "3      J Moreira      C S Shum          132.0            1222.000000     2   \n",
       "4       Z Purton       K W Lui          125.0            1136.000000     9   \n",
       "...          ...           ...            ...                    ...   ...   \n",
       "30184  B Prebble      A S Cruz          127.0            1085.000000    13   \n",
       "30185    W M Lai     C W Chang          122.0            1026.000000     9   \n",
       "30186   N Callan       J Moore          126.0            1153.000000     1   \n",
       "30187   N Callan       K W Lui          127.0            1109.108223     6   \n",
       "30188   H N Wong      Y S Tsui          113.0            1040.000000    12   \n",
       "\n",
       "      length_behind_winner  running_position_1  running_position_2  \\\n",
       "0                        -                   1                   2   \n",
       "1                        2                   8                   9   \n",
       "2                        2                   2                   1   \n",
       "3                        2                   6                   4   \n",
       "4                    4-1/4                   9                  10   \n",
       "...                    ...                 ...                 ...   \n",
       "30184                9-1/4                  11                  11   \n",
       "30185               13-1/2                  13                  13   \n",
       "30186               14-1/4                   5                   5   \n",
       "30187                  ---                   5                   5   \n",
       "30188                    -                   5                   5   \n",
       "\n",
       "       running_position_3 finish_time   win_odds   race_id  first_three  \\\n",
       "0                       2     1.22.33   3.800000  2014-001            0   \n",
       "1                       9     1.22.65   8.000000  2014-001            0   \n",
       "2                       1     1.22.66   5.700000  2014-001            0   \n",
       "3                       5     1.22.66   6.100000  2014-001            0   \n",
       "4                      10     1.23.02   6.100000  2014-001            0   \n",
       "...                   ...         ...        ...       ...          ...   \n",
       "30184                  12     1.24.58  41.000000  2016-805            0   \n",
       "30185                  13     1.25.26  99.000000  2016-805            0   \n",
       "30186                   4     1.25.35  41.000000  2016-805            0   \n",
       "30187                   4         ---  30.255274  2016-805            0   \n",
       "30188                   4         ---  99.000000  2016-805            0   \n",
       "\n",
       "       first_five  \n",
       "0             1.0  \n",
       "1             1.0  \n",
       "2             1.0  \n",
       "3             1.0  \n",
       "4             1.0  \n",
       "...           ...  \n",
       "30184         2.0  \n",
       "30185         2.0  \n",
       "30186         2.0  \n",
       "30187         2.0  \n",
       "30188         2.0  \n",
       "\n",
       "[30189 rows x 18 columns]"
      ]
     },
     "execution_count": 23,
     "metadata": {},
     "output_type": "execute_result"
    }
   ],
   "source": [
    "df['first_three'] = 0\n",
    "df.loc[df['finishing_position']<=5,'first_five']=1\n",
    "df.loc[df['finishing_position']>5,'first_five']=2\n",
    "\n",
    "df"
   ]
  },
  {
   "cell_type": "markdown",
   "metadata": {},
   "source": [
    "# Distribution of Final Positions\n",
    "* before the dividing:"
   ]
  },
  {
   "cell_type": "code",
   "execution_count": 66,
   "metadata": {},
   "outputs": [
    {
     "data": {
      "text/plain": [
       "Text(0.5, 0, 'final position')"
      ]
     },
     "execution_count": 66,
     "metadata": {},
     "output_type": "execute_result"
    },
    {
     "data": {
      "image/png": "[encoded data removed]",
      "text/plain": [
       "<Figure size 432x288 with 1 Axes>"
      ]
     },
     "metadata": {
      "needs_background": "light"
     },
     "output_type": "display_data"
    }
   ],
   "source": [
    "sns.countplot(df['finishing_position'])\n",
    "plt.xlabel('final position')"
   ]
  },
  {
   "cell_type": "markdown",
   "metadata": {},
   "source": [
    "* after the dividing:"
   ]
  },
  {
   "cell_type": "code",
   "execution_count": 25,
   "metadata": {},
   "outputs": [
    {
     "data": {
      "text/plain": [
       "Text(0.5, 0, 'categorie of final position')"
      ]
     },
     "execution_count": 25,
     "metadata": {},
     "output_type": "execute_result"
    },
    {
     "data": {
      "image/png": "[encoded data removed]",
      "text/plain": [
       "<Figure size 432x288 with 1 Axes>"
      ]
     },
     "metadata": {
      "needs_background": "light"
     },
     "output_type": "display_data"
    }
   ],
   "source": [
    "sns.countplot(df['first_five'])\n",
    "plt.xlabel('categorie of final position')\n"
   ]
  },
  {
   "cell_type": "code",
   "execution_count": 26,
   "metadata": {},
   "outputs": [
    {
     "data": {
      "image/png": "[encoded data removed]",
      "text/plain": [
       "<Figure size 360x360 with 1 Axes>"
      ]
     },
     "metadata": {},
     "output_type": "display_data"
    }
   ],
   "source": [
    "labels =df['first_five'].sort_values().unique()\n",
    "sizes = []\n",
    "for label in labels:\n",
    "    sizes.append(df[df['first_five']==label].shape[0])\n",
    " \n",
    "fig1, ax1 = plt.subplots(figsize=(5, 5))\n",
    "explode = (0,0.1 )\n",
    "ax1.pie(sizes, labels=labels,  explode=explode,autopct='%1.1f%%',shadow=True, startangle=90)\n",
    "ax1.axis('equal') \n",
    "ax1.set_title('percentage categorie of final position',fontsize=15)\n",
    "fig1.tight_layout()"
   ]
  },
  {
   "cell_type": "markdown",
   "metadata": {},
   "source": [
    "# Correlation\n",
    "We will see the potentials relationship between the features before we select them for machine learning models."
   ]
  },
  {
   "cell_type": "code",
   "execution_count": 68,
   "metadata": {},
   "outputs": [
    {
     "data": {
      "text/plain": [
       "<matplotlib.axes._subplots.AxesSubplot at 0x2473c836c48>"
      ]
     },
     "execution_count": 68,
     "metadata": {},
     "output_type": "execute_result"
    },
    {
     "data": {
      "image/png": "[encoded data removed]",
      "text/plain": [
       "<Figure size 720x576 with 2 Axes>"
      ]
     },
     "metadata": {
      "needs_background": "light"
     },
     "output_type": "display_data"
    }
   ],
   "source": [
    "corr = df[['finishing_position','horse_number','actual_weight','declared_horse_weight','draw',\n",
    "           'running_position_1','running_position_2','running_position_3','win_odds','first_five']].corr()\n",
    "plt.figure(figsize=(10,8))\n",
    "sns.heatmap(corr, annot=True)"
   ]
  },
  {
   "cell_type": "code",
   "execution_count": 69,
   "metadata": {},
   "outputs": [],
   "source": [
    "X = df[['draw','running_position_1','running_position_2','running_position_3','win_odds',]]\n",
    "Y = df['first_five']\n"
   ]
  },
  {
   "cell_type": "markdown",
   "metadata": {},
   "source": [
    "# KNN\n",
    "we will show the max knn scores and a plot for all knn in range (1,30)\n"
   ]
  },
  {
   "cell_type": "code",
   "execution_count": 70,
   "metadata": {},
   "outputs": [
    {
     "data": {
      "image/png": "[encoded data removed]",
      "text/plain": [
       "<Figure size 432x288 with 1 Axes>"
      ]
     },
     "metadata": {
      "needs_background": "light"
     },
     "output_type": "display_data"
    },
    {
     "name": "stdout",
     "output_type": "stream",
     "text": [
      "Max K scores: 23\n",
      "Max knn Accuracy : 0.7837837837837838 \n",
      "\n",
      "Max Knn Matrix:\n",
      "[[2033  929]\n",
      " [ 703 3883]] \n",
      "\n",
      "Classification Report:\n",
      "              precision    recall  f1-score   support\n",
      "\n",
      "         1.0       0.74      0.69      0.71      2962\n",
      "         2.0       0.81      0.85      0.83      4586\n",
      "\n",
      "    accuracy                           0.78      7548\n",
      "   macro avg       0.77      0.77      0.77      7548\n",
      "weighted avg       0.78      0.78      0.78      7548\n",
      "\n"
     ]
    }
   ],
   "source": [
    "X_train, X_test, y_train, y_test = train_test_split(X, Y)\n",
    "score_list=[]\n",
    "max_score=0\n",
    "max_k=0\n",
    "for i in range(1,30):\n",
    "    knn=KNeighborsClassifier(n_neighbors=i)\n",
    "    knn.fit(X_train,y_train)\n",
    "    score_list.append(knn.score(X_test,y_test))\n",
    "    if(knn.score(X_test,y_test)>max_score):\n",
    "            max_score=knn.score(X_test,y_test)\n",
    "            max_k=i\n",
    "    \n",
    "    \n",
    "plt.plot(range(1,30),score_list)\n",
    "plt.xlabel('#K - values', fontweight=\"bold\")\n",
    "plt.ylabel('Accuracy', fontweight=\"bold\")\n",
    "plt.grid()\n",
    "plt.show()\n",
    "\n",
    "knn=KNeighborsClassifier(n_neighbors=max_k)\n",
    "knn.fit(X_train,y_train)\n",
    "print('Max K scores:', max_k)\n",
    "print('Max knn Accuracy :',knn.score(X_test,y_test),\"\\n\")\n",
    "\n",
    "y_pred = knn.predict(X_test)\n",
    "\n",
    "print(\"Max Knn Matrix:\")\n",
    "print( confusion_matrix(y_test,y_pred),\"\\n\")\n",
    "print(\"Classification Report:\")\n",
    "print(classification_report(y_test, y_pred))"
   ]
  },
  {
   "cell_type": "markdown",
   "metadata": {},
   "source": [
    "## KFold and Cross Validation with KNN"
   ]
  },
  {
   "cell_type": "code",
   "execution_count": 71,
   "metadata": {},
   "outputs": [
    {
     "name": "stdout",
     "output_type": "stream",
     "text": [
      "Cross Validation Scores: [0.7807463  0.79019435 0.78798587 0.78776502 0.78202297]\n",
      "Cross Validation Scores Mean: 0.7857428998983387 \n",
      "\n",
      "classification report:\n",
      "              precision    recall  f1-score   support\n",
      "\n",
      "         1.0       0.75      0.68      0.72      2416\n",
      "         2.0       0.80      0.85      0.82      3622\n",
      "\n",
      "    accuracy                           0.78      6038\n",
      "   macro avg       0.78      0.77      0.77      6038\n",
      "weighted avg       0.78      0.78      0.78      6038\n",
      "\n",
      "KFold Matrix:\n",
      "[[1649  767]\n",
      " [ 542 3080]] \n",
      "\n",
      "classification report:\n",
      "              precision    recall  f1-score   support\n",
      "\n",
      "         1.0       0.75      0.70      0.72      2387\n",
      "         2.0       0.81      0.85      0.83      3651\n",
      "\n",
      "    accuracy                           0.79      6038\n",
      "   macro avg       0.78      0.77      0.78      6038\n",
      "weighted avg       0.79      0.79      0.79      6038\n",
      "\n",
      "KFold Matrix:\n",
      "[[1662  725]\n",
      " [ 555 3096]] \n",
      "\n",
      "classification report:\n",
      "              precision    recall  f1-score   support\n",
      "\n",
      "         1.0       0.75      0.67      0.71      2326\n",
      "         2.0       0.81      0.86      0.83      3712\n",
      "\n",
      "    accuracy                           0.79      6038\n",
      "   macro avg       0.78      0.76      0.77      6038\n",
      "weighted avg       0.78      0.79      0.78      6038\n",
      "\n",
      "KFold Matrix:\n",
      "[[1555  771]\n",
      " [ 525 3187]] \n",
      "\n",
      "classification report:\n",
      "              precision    recall  f1-score   support\n",
      "\n",
      "         1.0       0.74      0.70      0.72      2367\n",
      "         2.0       0.81      0.84      0.83      3671\n",
      "\n",
      "    accuracy                           0.78      6038\n",
      "   macro avg       0.78      0.77      0.77      6038\n",
      "weighted avg       0.78      0.78      0.78      6038\n",
      "\n",
      "KFold Matrix:\n",
      "[[1647  720]\n",
      " [ 579 3092]] \n",
      "\n",
      "classification report:\n",
      "              precision    recall  f1-score   support\n",
      "\n",
      "         1.0       0.76      0.69      0.72      2463\n",
      "         2.0       0.80      0.85      0.82      3574\n",
      "\n",
      "    accuracy                           0.78      6037\n",
      "   macro avg       0.78      0.77      0.77      6037\n",
      "weighted avg       0.78      0.78      0.78      6037\n",
      "\n",
      "KFold Matrix:\n",
      "[[1704  759]\n",
      " [ 540 3034]] \n",
      "\n"
     ]
    }
   ],
   "source": [
    "kf = KFold(n_splits=5,shuffle=True)\n",
    "cv_scores = cross_val_score(knn,X_train,y_train,cv=kf)\n",
    "print(\"Cross Validation Scores:\", cv_scores)\n",
    "print(\"Cross Validation Scores Mean:\", cv_scores.mean(),\"\\n\")\n",
    "\n",
    "for train_index, test_index in kf.split(X):\n",
    "    X_train, X_test =  X[X.index.isin(train_index)], X[X.index.isin(test_index)]\n",
    "    y_train, y_test = Y[Y.index.isin(train_index)], Y[Y.index.isin(test_index)]\n",
    "    knn.fit(X_train, y_train)\n",
    "    y_pred = knn.predict(X_test)\n",
    "    print('classification report:')\n",
    "    print(classification_report(y_test,y_pred))\n",
    "    print(\"KFold Matrix:\")\n",
    "    print (confusion_matrix(y_test, y_pred),\"\\n\")"
   ]
  },
  {
   "cell_type": "markdown",
   "metadata": {},
   "source": [
    "# Logistic Regression "
   ]
  },
  {
   "cell_type": "code",
   "execution_count": 72,
   "metadata": {},
   "outputs": [
    {
     "name": "stdout",
     "output_type": "stream",
     "text": [
      "Logistic Regression Accuracy : 0.7655007949125596 \n",
      "\n",
      "Logistic Regression Matrix:\n",
      "[[2093  904]\n",
      " [ 866 3685]] \n",
      "\n",
      "Classification Report:\n",
      "              precision    recall  f1-score   support\n",
      "\n",
      "         1.0       0.71      0.70      0.70      2997\n",
      "         2.0       0.80      0.81      0.81      4551\n",
      "\n",
      "    accuracy                           0.77      7548\n",
      "   macro avg       0.76      0.75      0.75      7548\n",
      "weighted avg       0.77      0.77      0.77      7548\n",
      "\n"
     ]
    }
   ],
   "source": [
    "X_train, X_test, y_train, y_test = train_test_split(X, Y)\n",
    "lgr=LogisticRegression()\n",
    "lgr.fit(X_train,y_train)\n",
    "print('Logistic Regression Accuracy :', lgr.score(X_test,y_test),\"\\n\")\n",
    "\n",
    "y_pred = lgr.predict(X_test)\n",
    "\n",
    "print(\"Logistic Regression Matrix:\")\n",
    "print( confusion_matrix(y_test,y_pred),\"\\n\")\n",
    "print(\"Classification Report:\")\n",
    "print(classification_report(y_test, y_pred))\n"
   ]
  },
  {
   "cell_type": "markdown",
   "metadata": {},
   "source": [
    "# Gaussian Naive Bayes"
   ]
  },
  {
   "cell_type": "code",
   "execution_count": 73,
   "metadata": {},
   "outputs": [
    {
     "name": "stdout",
     "output_type": "stream",
     "text": [
      "Naive Bayes Accuracy :  0.7111817700052994 \n",
      "\n",
      "Naive Bayes Matrix:\n",
      "[[2310  747]\n",
      " [1433 3058]] \n",
      "\n",
      "Classification Report:\n",
      "              precision    recall  f1-score   support\n",
      "\n",
      "         1.0       0.62      0.76      0.68      3057\n",
      "         2.0       0.80      0.68      0.74      4491\n",
      "\n",
      "    accuracy                           0.71      7548\n",
      "   macro avg       0.71      0.72      0.71      7548\n",
      "weighted avg       0.73      0.71      0.71      7548\n",
      "\n"
     ]
    }
   ],
   "source": [
    "X_train, X_test, y_train, y_test = train_test_split(X, Y)\n",
    "nb=GaussianNB()\n",
    "nb.fit(X_train,y_train)\n",
    "print('Naive Bayes Accuracy : ', nb.score(X_test,y_test),\"\\n\")\n",
    "\n",
    "y_pred = nb.predict(X_test)\n",
    "print(\"Naive Bayes Matrix:\")\n",
    "print( confusion_matrix(y_test,y_pred),\"\\n\")\n",
    "print(\"Classification Report:\")\n",
    "print(classification_report(y_test, y_pred))"
   ]
  },
  {
   "cell_type": "markdown",
   "metadata": {},
   "source": [
    "# Decision Tree"
   ]
  },
  {
   "cell_type": "code",
   "execution_count": 74,
   "metadata": {},
   "outputs": [
    {
     "name": "stdout",
     "output_type": "stream",
     "text": [
      "Decision Tree Accuracy :  0.8007419183889772 \n",
      "\n",
      "Decision Tree Matrix:\n",
      "[[1996  882]\n",
      " [ 622 4048]] \n",
      "\n",
      "Classification Report:\n",
      "              precision    recall  f1-score   support\n",
      "\n",
      "         1.0       0.76      0.69      0.73      2878\n",
      "         2.0       0.82      0.87      0.84      4670\n",
      "\n",
      "    accuracy                           0.80      7548\n",
      "   macro avg       0.79      0.78      0.78      7548\n",
      "weighted avg       0.80      0.80      0.80      7548\n",
      "\n"
     ]
    }
   ],
   "source": [
    "X_train, X_test, y_train, y_test = train_test_split(X, Y)\n",
    "dt=DecisionTreeClassifier(max_depth=4)\n",
    "dt.fit(X_train,y_train)\n",
    "print('Decision Tree Accuracy : ', dt.score(X_test,y_test),\"\\n\")\n",
    "\n",
    "y_pred = dt.predict(X_test)\n",
    "\n",
    "print(\"Decision Tree Matrix:\")\n",
    "print(confusion_matrix(y_test,y_pred),\"\\n\")\n",
    "print(\"Classification Report:\")\n",
    "print(classification_report(y_test, y_pred))"
   ]
  },
  {
   "cell_type": "markdown",
   "metadata": {},
   "source": [
    "# Ramdom Forest \n"
   ]
  },
  {
   "cell_type": "code",
   "execution_count": 77,
   "metadata": {},
   "outputs": [
    {
     "name": "stdout",
     "output_type": "stream",
     "text": [
      "Random Forest Accuracy :  0.7934552199258081 \n",
      "\n",
      "Random Forest Matrix:\n",
      "[[2000 1004]\n",
      " [ 555 3989]] \n",
      "\n",
      "Classification Report:\n",
      "              precision    recall  f1-score   support\n",
      "\n",
      "         1.0       0.78      0.67      0.72      3004\n",
      "         2.0       0.80      0.88      0.84      4544\n",
      "\n",
      "    accuracy                           0.79      7548\n",
      "   macro avg       0.79      0.77      0.78      7548\n",
      "weighted avg       0.79      0.79      0.79      7548\n",
      "\n"
     ]
    }
   ],
   "source": [
    "X_train, X_test, y_train, y_test = train_test_split(X, Y)\n",
    "randF = RandomForestClassifier(max_depth=3, random_state=42)\n",
    "randF.fit(X_train, y_train)\n",
    "print('Random Forest Accuracy : ', randF.score(X_test,y_test),\"\\n\")\n",
    "\n",
    "y_pred = randF.predict(X_test)\n",
    "\n",
    "print(\"Random Forest Matrix:\")\n",
    "print(confusion_matrix(y_test,y_pred),\"\\n\")\n",
    "print(\"Classification Report:\")\n",
    "print(classification_report(y_test, y_pred))\n"
   ]
  },
  {
   "cell_type": "markdown",
   "metadata": {},
   "source": [
    "# SVM"
   ]
  },
  {
   "cell_type": "code",
   "execution_count": 76,
   "metadata": {},
   "outputs": [
    {
     "name": "stdout",
     "output_type": "stream",
     "text": [
      "Support Vector :  0.789613142554319 \n",
      "\n",
      "Support Vector Matrix:\n",
      "[[1976  972]\n",
      " [ 616 3984]] \n",
      "\n",
      "Classification Report:\n",
      "              precision    recall  f1-score   support\n",
      "\n",
      "         1.0       0.76      0.67      0.71      2948\n",
      "         2.0       0.80      0.87      0.83      4600\n",
      "\n",
      "    accuracy                           0.79      7548\n",
      "   macro avg       0.78      0.77      0.77      7548\n",
      "weighted avg       0.79      0.79      0.79      7548\n",
      "\n",
      "Cross Validation Scores: [0.79178627 0.78003534 0.77826855 0.79350707 0.78577739]\n",
      "Cross Validation Scores Mean: 0.7858749211013125 \n",
      "\n"
     ]
    }
   ],
   "source": [
    "X_train, X_test, y_train, y_test = train_test_split(X, Y)\n",
    "\n",
    "svm= SVC()\n",
    "svm.fit(X_train, y_train)\n",
    "print('Support Vector : ', svm.score(X_test,y_test),\"\\n\")\n",
    "\n",
    "y_pred = svm.predict(X_test)\n",
    "\n",
    "print(\"Support Vector Matrix:\")\n",
    "print(confusion_matrix(y_test,y_pred),\"\\n\")\n",
    "print(\"Classification Report:\")\n",
    "print(classification_report(y_test, y_pred))\n",
    "\n",
    "kf = KFold(n_splits=5,shuffle=True)\n",
    "cv_scores = cross_val_score(svm,X_train,y_train,cv=kf)\n",
    "print(\"Cross Validation Scores:\", cv_scores)\n",
    "print(\"Cross Validation Scores Mean:\", cv_scores.mean(),\"\\n\")"
   ]
  },
  {
   "cell_type": "code",
   "execution_count": null,
   "metadata": {},
   "outputs": [],
   "source": []
  }
 ],
 "metadata": {
  "kernelspec": {
   "display_name": "Python 3",
   "language": "python",
   "name": "python3"
  },
  "language_info": {
   "codemirror_mode": {
    "name": "ipython",
    "version": 3
   },
   "file_extension": ".py",
   "mimetype": "text/x-python",
   "name": "python",
   "nbconvert_exporter": "python",
   "pygments_lexer": "ipython3",
   "version": "3.7.4"
  }
 },
 "nbformat": 4,
 "nbformat_minor": 2
}
